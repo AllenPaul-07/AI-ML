{
 "cells": [
  {
   "cell_type": "code",
   "execution_count": 19,
   "metadata": {},
   "outputs": [],
   "source": [
    "import pandas as pd\n",
    "from sklearn.tree import DecisionTreeClassifier \n",
    "from sklearn.model_selection import train_test_split\n",
    "from sklearn.metrics import accuracy_score\n",
    "from sklearn.externals import joblib \n",
    "from sklearn import tree\n",
    "\n",
    "music = pd.read_csv('music.csv')\n",
    "X = music.drop(columns = ['genre'])\n",
    "y = music['genre']\n",
    "\n",
    "#split to train and test\n",
    "X_train , X_test , y_train , y_test = train_test_split(X,y,test_size = 0.2)\n",
    "\n",
    "#creating model to predict\n",
    "model = DecisionTreeClassifier()\n",
    "model.fit(X_train,y_train)\n",
    "predictions = model.predict(X_test)\n",
    "\n",
    "\n",
    "#joblib module for saving model\n",
    "joblib.dump(model, 'music-predicter.joblib')\n",
    "#loading \n",
    "joblib.load('music-predicter.joblib')\n",
    "\n",
    "#accuracy\n",
    "score = accuracy_score(y_test, predictions)\n",
    "\n",
    "#visualization tree\n",
    "tree.export_graphviz(model, out_file = 'music-predicter.dot',\n",
    "                     feature_names = ['age', 'gender'],\n",
    "                     class_names = sorted(y.unique()),\n",
    "                     label = 'all',\n",
    "                     rounded = True,\n",
    "                     filled = True )\n"
   ]
  },
  {
   "cell_type": "code",
   "execution_count": null,
   "metadata": {},
   "outputs": [],
   "source": []
  }
 ],
 "metadata": {
  "kernelspec": {
   "display_name": "Python 3 (ipykernel)",
   "language": "python",
   "name": "python3"
  },
  "language_info": {
   "codemirror_mode": {
    "name": "ipython",
    "version": 3
   },
   "file_extension": ".py",
   "mimetype": "text/x-python",
   "name": "python",
   "nbconvert_exporter": "python",
   "pygments_lexer": "ipython3",
   "version": "3.8.6rc1"
  }
 },
 "nbformat": 4,
 "nbformat_minor": 2
}
